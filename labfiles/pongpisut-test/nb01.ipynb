{
 "cells": [
  {
   "cell_type": "code",
   "execution_count": 9,
   "id": "9050eb98",
   "metadata": {},
   "outputs": [],
   "source": [
    "from dotenv import load_dotenv\n",
    "# Get configuration settings \n",
    "load_dotenv()\n",
    "my_endpoint = os.getenv(\"ENDPOINT\")\n",
    "model_deployment =  os.getenv(\"MODEL_DEPLOYMENT\")\n",
    "sub_key = os.getenv(\"my_key\")"
   ]
  },
  {
   "cell_type": "code",
   "execution_count": 10,
   "id": "5645dcd5",
   "metadata": {},
   "outputs": [],
   "source": [
    "import os\n",
    "from openai import AzureOpenAI\n",
    "\n",
    "client = AzureOpenAI(\n",
    "    api_version=\"2024-12-01-preview\",\n",
    "    azure_endpoint=my_endpoint,\n",
    "    api_key=sub_key,\n",
    ")"
   ]
  },
  {
   "cell_type": "code",
   "execution_count": 11,
   "id": "6602df38",
   "metadata": {},
   "outputs": [
    {
     "name": "stdout",
     "output_type": "stream",
     "text": [
      "Paris is an incredible city with so much to offer! Whether you're interested in art, history, architecture, or simply the charm of strolling its picturesque streets, there is something for everyone. Here are the must-see attractions that should definitely be on your list:\n",
      "\n",
      "### Iconic Landmarks:\n",
      "1. **Eiffel Tower** - No trip to Paris is complete without visiting the iconic Eiffel Tower. You can enjoy breathtaking views from the top or picnic at the nearby Champ de Mars.\n",
      "2. **Louvre Museum** - Home to the famous Mona Lisa and thousands of other masterpieces, this world-renowned museum is a must for art lovers.\n",
      "3. **Notre-Dame Cathedral** - While restoration is ongoing following the 2019 fire, you can still visit the area and admire the Gothic architecture from the outside.\n",
      "4. **Arc de Triomphe** - Climb to the top for stunning views of the Champs-Élysées and the city.\n",
      "5. **Sacré-Cœur Basilica** - Situated atop Montmartre, enjoy both the stunning basilica and panoramic views of Paris.\n",
      "\n",
      "### Art & Culture:\n",
      "6. **Musée d'Orsay** - A treasure trove of Impressionist and Post-Impressionist works housed in a beautiful Beaux-Arts train station.\n",
      "7. **Centre Pompidou** - A fascinating hub for contemporary art and modern design.\n",
      "8. **Opera Garnier** - An opulent opera house that inspired \"The Phantom of the Opera.\"\n",
      "\n",
      "### Charming Neighborhoods:\n",
      "9. **Le Marais** - Stroll through this trendy and historic district filled with cafés, boutiques, and vibrant nightlife.\n",
      "10. **Montmartre** - Explore the bohemian streets once frequented by artists like Picasso and Van Gogh, and don’t miss the Place du Tertre with its street painters.\n",
      "11. **Saint-Germain-des-Prés** - Known for its chic vibes, literary cafés like Café de Flore, and boutique shopping.\n",
      "\n",
      "### Outdoor Spaces:\n",
      "12. **Jardin des Tuileries** - Perfect for a relaxing walk near the Louvre.\n",
      "13. **Luxembourg Gardens** - A peaceful haven in the Latin Quarter, great for lounging or picnicking.\n",
      "14. **Seine River Cruise** - See Paris from the water on a Bateau Mouche, especially stunning at sunset.\n",
      "\n",
      "### Unique Experiences:\n",
      "15. **Catacombs of Paris** - Venture underground to discover the eerie tunnels filled with centuries-old bones.\n",
      "16. **Palace of Versailles** - A short train ride from the city, this opulent palace and its gardens are worth a day trip.\n",
      "17. **Moulin Rouge** - Enjoy an iconic Parisian cabaret show.\n",
      "\n",
      "### Hidden Gems:\n",
      "18. **Canal Saint-Martin** - A picturesque area with quaint bridges and waterside cafés.\n",
      "19. **Musée de l’Orangerie** - Smaller than the Louvre but home to Monet’s breathtaking Water Lilies.\n",
      "20. **Passages Couverts** - Explore the charming covered shopping arcades in Paris for antiques and artisanal finds.\n",
      "\n",
      "### Food & Shopping:\n",
      "21. **Try French Cuisine** - Indulge in croissants, macarons, baguettes, and wine. Visit a traditional Parisian bistrot for authentic dishes or a patisserie for sweet treats.\n",
      "22. **Explore Local Markets** - Visit Marché Bastille or Marché des Enfants Rouges for fresh produce and artisan goods.\n",
      "23. **Fashion Shopping** - Browse high-end boutiques in Rue Saint-Honoré or vintage shops in the Marais.\n",
      "\n",
      "### Pro Tips:\n",
      "- Paris is best explored on foot, so wear comfortable shoes.\n",
      "- Be mindful of pickpockets in crowded tourist areas.\n",
      "- Try to include experiences beyond the main attractions, such as wandering local streets or enjoying a quiet moment by the Seine.\n",
      "\n",
      "Enjoy your trip to the City of Lights!\n"
     ]
    }
   ],
   "source": [
    "import os\n",
    "from openai import AzureOpenAI\n",
    "\n",
    "endpoint = \"https://pkong-md5ragou-eastus2.cognitiveservices.azure.com/\"\n",
    "model_name = \"gpt-4o\"\n",
    "deployment = \"gpt-4o\"\n",
    "\n",
    "subscription_key = sub_key\n",
    "api_version = \"2024-12-01-preview\"\n",
    "\n",
    "client = AzureOpenAI(\n",
    "    api_version=api_version,\n",
    "    azure_endpoint=endpoint,\n",
    "    api_key=subscription_key,\n",
    ")\n",
    "\n",
    "response = client.chat.completions.create(\n",
    "    messages=[\n",
    "        {\n",
    "            \"role\": \"system\",\n",
    "            \"content\": \"You are a helpful assistant.\",\n",
    "        },\n",
    "        {\n",
    "            \"role\": \"user\",\n",
    "            \"content\": \"I am going to Paris, what should I see?\",\n",
    "        }\n",
    "    ],\n",
    "    max_tokens=4096,\n",
    "    temperature=1.0,\n",
    "    top_p=1.0,\n",
    "    model=deployment\n",
    ")\n",
    "\n",
    "print(response.choices[0].message.content)"
   ]
  }
 ],
 "metadata": {
  "kernelspec": {
   "display_name": "pongpisuttestenv",
   "language": "python",
   "name": "python3"
  },
  "language_info": {
   "codemirror_mode": {
    "name": "ipython",
    "version": 3
   },
   "file_extension": ".py",
   "mimetype": "text/x-python",
   "name": "python",
   "nbconvert_exporter": "python",
   "pygments_lexer": "ipython3",
   "version": "3.11.4"
  }
 },
 "nbformat": 4,
 "nbformat_minor": 5
}
